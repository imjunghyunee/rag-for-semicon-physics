{
 "cells": [
  {
   "cell_type": "code",
   "execution_count": 23,
   "id": "975eaa44",
   "metadata": {},
   "outputs": [],
   "source": [
    "import json\n",
    "import numpy as np\n",
    "import pandas as pd\n",
    "import matplotlib.pyplot as plt\n",
    "import seaborn as sns\n",
    "from sentence_transformers import SentenceTransformer\n",
    "from sklearn.decomposition import PCA\n",
    "from sklearn.manifold import TSNE\n",
    "from typing import List, Dict, Tuple, Any\n",
    "import warnings\n",
    "warnings.filterwarnings(\"ignore\")"
   ]
  },
  {
   "cell_type": "code",
   "execution_count": 24,
   "id": "b77e3bc2",
   "metadata": {},
   "outputs": [],
   "source": [
    "# plotting settings\n",
    "plt.style.use(\"seaborn-v0_8\")\n",
    "sns.set_palette(\"husl\")\n",
    "plt.rcParams[\"figure.figsize\"] = (12, 8)\n",
    "plt.rcParams[\"font.size\"] = 10"
   ]
  },
  {
   "cell_type": "code",
   "execution_count": 25,
   "id": "2a368caf",
   "metadata": {},
   "outputs": [],
   "source": [
    "def load_json(file_path: str) -> List[Dict]:\n",
    "    \"\"\"Load data from JSON file\"\"\"\n",
    "    try:\n",
    "        with open(file_path, 'r', encoding='utf-8') as file:\n",
    "            data = json.load(file)\n",
    "        print(f\"Successfully loaded {len(data)} records from {file_path}\")\n",
    "        return data\n",
    "    except FileNotFoundError:\n",
    "        print(f\"File not found: {file_path}\")\n",
    "        return []\n",
    "    except json.JSONDecodeError as e:\n",
    "        print(f\"Error decoding JSON file: {e}\")\n",
    "        return []\n",
    "    except Exception as e:\n",
    "        print(f\"Error loading file {file_path}: {e}\")\n",
    "        return []"
   ]
  },
  {
   "cell_type": "code",
   "execution_count": 26,
   "id": "55596076",
   "metadata": {},
   "outputs": [
    {
     "name": "stdout",
     "output_type": "stream",
     "text": [
      "Successfully loaded 122 records from /home/jhwang/semicon-rag/data/examples_text_summary_pair.json\n",
      "Total records loaded: 122\n",
      "Sample record keys: ['id', 'original', 'summary']\n",
      "Sample record ID: Example 1.1\n"
     ]
    }
   ],
   "source": [
    "file_path = \"/home/jhwang/semicon-rag/data/examples_text_summary_pair.json\"\n",
    "\n",
    "data = load_json(file_path)\n",
    "\n",
    "if data:\n",
    "    print(f\"Total records loaded: {len(data)}\")\n",
    "    print(f\"Sample record keys: {list(data[0].keys())}\")\n",
    "    print(f\"Sample record ID: {data[0]['id']}\")\n",
    "else:\n",
    "    print(\"No data loaded\")"
   ]
  },
  {
   "cell_type": "code",
   "execution_count": 27,
   "id": "dea6f2dc",
   "metadata": {},
   "outputs": [
    {
     "name": "stdout",
     "output_type": "stream",
     "text": [
      "Data Structure Analysis:\n",
      "Number of examples: 122\n",
      "Keys in each record: ['id', 'original', 'summary']\n",
      "Records missing summaries: 0\n",
      "Records missing originals: 0\n",
      "First 10 example IDs: ['Example 1.1', 'Example 1.2', 'Example 1.3', 'Example 2.1', 'Example 2.2', 'Example 2.3', 'Example 2.4', 'Example 2.5', 'Example 2.6', 'Example 3.1']\n",
      "Summary length stats - Mean: 615.6, Min: 403, Max: 974\n",
      "Original length stats - Mean: 1229.0, Min: 415, Max: 2497\n"
     ]
    }
   ],
   "source": [
    "# Data exploration\n",
    "if data:\n",
    "    print(\"Data Structure Analysis:\")\n",
    "    print(f\"Number of examples: {len(data)}\")\n",
    "    print(f\"Keys in each record: {list(data[0].keys())}\")\n",
    "\n",
    "    # Check for missing data\n",
    "    missing_summaries = sum(1 for item in data if not item.get('summary'))\n",
    "    missing_originals = sum(1 for item in data if not item.get('original'))\n",
    "\n",
    "    print(f\"Records missing summaries: {missing_summaries}\")\n",
    "    print(f\"Records missing originals: {missing_originals}\")\n",
    "\n",
    "    # Show example IDs\n",
    "    example_ids = [item['id'] for item in data[:10]]\n",
    "    print(f\"First 10 example IDs: {example_ids}\")\n",
    "\n",
    "    # Text length statistics\n",
    "    summary_lengths = [len(item['summary']) for item in data if item.get('summary')]\n",
    "    original_lengths = [len(item['original']) for item in data if item.get('original')]\n",
    "\n",
    "    print(f\"Summary length stats - Mean: {np.mean(summary_lengths):.1f}, Min: {min(summary_lengths)}, Max: {max(summary_lengths)}\")\n",
    "    print(f\"Original length stats - Mean: {np.mean(original_lengths):.1f}, Min: {min(original_lengths)}, Max: {max(original_lengths)}\")"
   ]
  },
  {
   "cell_type": "code",
   "execution_count": 28,
   "id": "6f468885",
   "metadata": {},
   "outputs": [],
   "source": [
    "def extract_texts_and_ids(data: List[Dict]) -> Tuple[List[str], List[str], List[str]]:\n",
    "    originals = []\n",
    "    summaries = []\n",
    "    ids = []\n",
    "    for item in data:\n",
    "        originals.append(item.get('original', ''))\n",
    "        summaries.append(item.get('summary', ''))\n",
    "        ids.append(item.get('id', ''))\n",
    "    return originals, summaries, ids"
   ]
  },
  {
   "cell_type": "code",
   "execution_count": 29,
   "id": "11ea0a57",
   "metadata": {},
   "outputs": [
    {
     "name": "stdout",
     "output_type": "stream",
     "text": [
      "Extracted 122 originals, 122 summaries, and 122 IDs.\n"
     ]
    }
   ],
   "source": [
    "originals, summaries, ids = extract_texts_and_ids(data)\n",
    "print(f\"Extracted {len(originals)} originals, {len(summaries)} summaries, and {len(ids)} IDs.\")"
   ]
  },
  {
   "cell_type": "code",
   "execution_count": null,
   "id": "f55377b2",
   "metadata": {},
   "outputs": [],
   "source": [
    "# Create Embeddings\n",
    "def create_embeddings(texts: List[str], model_name: str = \"jinaai/jina-embeddings-v3\") -> np.ndarray:\n",
    "    print(f\"Loading embedding model: {model_name}\")\n",
    "    \n",
    "    try:\n",
    "        model = SentenceTransformer(model_name, trust_remote_code=True)\n",
    "        print(\"Model loaded successfully!\")\n",
    "        \n",
    "        print(f\"Create embeddings for {len(texts)} texts\")\n",
    "        embeddings = model.encode(\n",
    "            texts,\n",
    "            show_progress_bar=True,\n",
    "            normalize_embeddings=True\n",
    "        )\n",
    "        \n",
    "        print(f\"Embeddings created with shape: {embeddings.shape}\")\n",
    "        print(f\"Embeding dimension: {embeddings.shape[1]}\")\n",
    "        \n",
    "        return embeddings\n",
    "    except Exception as e:\n",
    "        print(f\"Error creating embeddings: {e}\")\n",
    "        return np.array([])"
   ]
  }
 ],
 "metadata": {
  "kernelspec": {
   "display_name": "langgraph",
   "language": "python",
   "name": "python3"
  },
  "language_info": {
   "codemirror_mode": {
    "name": "ipython",
    "version": 3
   },
   "file_extension": ".py",
   "mimetype": "text/x-python",
   "name": "python",
   "nbconvert_exporter": "python",
   "pygments_lexer": "ipython3",
   "version": "3.11.9"
  }
 },
 "nbformat": 4,
 "nbformat_minor": 5
}
